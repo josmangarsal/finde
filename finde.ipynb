{
 "cells": [
  {
   "cell_type": "markdown",
   "metadata": {
    "colab_type": "text",
    "id": "Bp93hvj5tt5q"
   },
   "source": [
    "# FInDe"
   ]
  },
  {
   "cell_type": "markdown",
   "metadata": {},
   "source": [
    "## Availables banks\n",
    "- Cajamar\n",
    "- Openbank\n",
    "- Unicaja\n",
    "- BBVA"
   ]
  },
  {
   "cell_type": "markdown",
   "metadata": {},
   "source": [
    "## Fist step\n",
    "Put your csv or xls files inside ```accounts/current/<bank_name>/file``` and ```accounts/savings/<bank_name>/file```"
   ]
  },
  {
   "cell_type": "markdown",
   "metadata": {
    "colab_type": "text",
    "id": "JejdE5Kstt5t"
   },
   "source": [
    "## Requisites"
   ]
  },
  {
   "cell_type": "code",
   "execution_count": null,
   "metadata": {
    "colab": {},
    "colab_type": "code",
    "id": "oYUEQw_9tt5v",
    "outputId": "bad06c29-45c6-4f11-b566-aa3d1d75bc42"
   },
   "outputs": [],
   "source": [
    "!pip install plotly\n",
    "!pip install numpy\n",
    "!pip install pandas\n",
    "!pip install xlrd\n",
    "!pip install openpyxl"
   ]
  },
  {
   "cell_type": "markdown",
   "metadata": {
    "colab_type": "text",
    "id": "wP-OzZ68tt56"
   },
   "source": [
    "## Code"
   ]
  },
  {
   "cell_type": "markdown",
   "metadata": {
    "colab_type": "text",
    "id": "PtUwCdHVtt58"
   },
   "source": [
    "### Imports"
   ]
  },
  {
   "cell_type": "code",
   "execution_count": null,
   "metadata": {
    "colab": {
     "base_uri": "https://localhost:8080/",
     "height": 17
    },
    "colab_type": "code",
    "id": "iDUY_DZutt5-",
    "outputId": "124aafe4-ef09-46f3-ef3e-120fdc2541cb"
   },
   "outputs": [],
   "source": [
    "import plotly as py\n",
    "import plotly.graph_objs as go\n",
    "\n",
    "import numpy as np\n",
    "import datetime as dt\n",
    "import os.path\n",
    "import xlrd\n",
    "import pandas as pd\n",
    "\n",
    "py.offline.init_notebook_mode(connected=True)"
   ]
  },
  {
   "cell_type": "markdown",
   "metadata": {},
   "source": [
    "### Constant and settings"
   ]
  },
  {
   "cell_type": "code",
   "execution_count": null,
   "metadata": {},
   "outputs": [],
   "source": [
    "CURRENT = \"current\"\n",
    "SAVING = \"saving\"\n",
    "ACCOUNTTYPES  = [CURRENT, SAVING]\n",
    "SUPPORTED_BANKS = {\n",
    "    \"unicaja\": \"Unicaja\",\n",
    "    \"cajamar\": \"Cajamar\",\n",
    "    \"openbank\": \"Openbank\",\n",
    "    \"bbva\": \"BBVA\"\n",
    "}\n",
    "CURRENCY = '€'"
   ]
  },
  {
   "cell_type": "markdown",
   "metadata": {
    "colab_type": "text",
    "id": "MXwOqGAitt6A"
   },
   "source": [
    "### Process CSV, XLS and XLSX"
   ]
  },
  {
   "cell_type": "code",
   "execution_count": null,
   "metadata": {
    "colab": {},
    "colab_type": "code",
    "id": "MVG8B78zveBB"
   },
   "outputs": [],
   "source": [
    "def processCSV(file, splitToken, bank): #TODO Move to pandas\n",
    "    fecha = []\n",
    "    saldo = []\n",
    "    movimientos = []\n",
    "    first = True\n",
    "    \n",
    "    if bank == 'cajamar':\n",
    "        with open(file) as f:\n",
    "            for line in f:\n",
    "                if first is False:\n",
    "                    tokens = line.split(splitToken)\n",
    "                    fecha.append(dt.datetime.strptime(tokens[0], '%d/%m/%Y').date())\n",
    "                    saldo.append(float(tokens[len(tokens)-1][:-1].replace('.', '').replace(',', '.')))\n",
    "                    movimientos.append(float(tokens[len(tokens)-2].replace('.','').replace(',','.').replace(' ', '')))\n",
    "                first = False\n",
    "\n",
    "    return (saldo, fecha, movimientos)"
   ]
  },
  {
   "cell_type": "code",
   "execution_count": null,
   "metadata": {},
   "outputs": [],
   "source": [
    "def processXLS(file, bank):   \n",
    "    balance = []\n",
    "    date = []\n",
    "    movements = []\n",
    "    \n",
    "    if bank == 'unicaja':\n",
    "        book = xlrd.open_workbook(file)\n",
    "        first_sheet = book.sheet_by_index(0)\n",
    "        date_int = first_sheet.col_values(0)[5:]\n",
    "        balance = first_sheet.col_values(5)[5:]\n",
    "        movements = first_sheet.col_values(3)[5:]\n",
    "        date = [xlrd.xldate_as_datetime(date_int[i], book.datemode).date() for i in range(0, len(date_int))]\n",
    "    \n",
    "    if bank == 'openbank':\n",
    "        # TODO Improve and read like sheets\n",
    "        df = pd.read_html(file)\n",
    "        df = df[0].dropna(axis=0, thresh=4)\n",
    "        \n",
    "        date_str = df.iloc[1:,1]\n",
    "        date = [dt.datetime.strptime(x, '%d/%m/%Y').date() for x in date_str]\n",
    "        \n",
    "        balance_str = df.iloc[1:,9]\n",
    "        balance = []\n",
    "        for x in balance_str:\n",
    "            if ',' in x:\n",
    "                balance.append(float(x.replace('.','').replace(',','.')))\n",
    "            else:\n",
    "                balance.append(float((x[:-2] + ',' + x[-2:]).replace('.','').replace(',','.')))\n",
    "        \n",
    "        movements_str = df.iloc[1:,7]\n",
    "        movements = []\n",
    "        for x in movements_str:\n",
    "            if ',' in x:\n",
    "                movements.append(float(x.replace('.','').replace(',','.')))\n",
    "            else:\n",
    "                movements.append(float((x[:-2] + ',' + x[-2:]).replace('.','').replace(',','.')))\n",
    "\n",
    "    return (balance, date, movements)"
   ]
  },
  {
   "cell_type": "code",
   "execution_count": null,
   "metadata": {},
   "outputs": [],
   "source": [
    "def processXLSX(file, bank):   \n",
    "    balance = []\n",
    "    date = []\n",
    "    movements = []\n",
    "    \n",
    "    if bank == 'bbva':\n",
    "        df = pd.read_excel(file)\n",
    "\n",
    "        datetime = df.iloc[4:,1]\n",
    "        date = [x.date() for x in datetime]\n",
    "\n",
    "        balance = df.iloc[4:,7]\n",
    "\n",
    "        movements = df.iloc[4:,5]\n",
    "\n",
    "    return (balance, date, movements)"
   ]
  },
  {
   "cell_type": "markdown",
   "metadata": {},
   "source": [
    "### Load files"
   ]
  },
  {
   "cell_type": "code",
   "execution_count": null,
   "metadata": {},
   "outputs": [],
   "source": [
    "def sortDataFiles(bankdata):\n",
    "    for accountType in ACCOUNTTYPES:\n",
    "        for bankname in bankdata[accountType]:\n",
    "            if \"movements\" in bankdata[accountType][bankname]:\n",
    "                (bankdata[accountType][bankname][\"date\"], bankdata[accountType][bankname][\"balance\"], bankdata[accountType][bankname][\"movements\"]) = zip(*sorted(zip(bankdata[accountType][bankname][\"date\"], bankdata[accountType][bankname][\"balance\"], bankdata[accountType][bankname][\"movements\"])))\n",
    "            else:\n",
    "                (bankdata[accountType][bankname][\"date\"], bankdata[accountType][bankname][\"balance\"]) = zip(*sorted(zip(bankdata[accountType][bankname][\"date\"], bankdata[accountType][bankname][\"balance\"])))\n",
    "            \n",
    "    return bankdata"
   ]
  },
  {
   "cell_type": "code",
   "execution_count": null,
   "metadata": {},
   "outputs": [],
   "source": [
    "def loadDataFiles():    \n",
    "    bankdata = {}\n",
    "    for accountType in ACCOUNTTYPES:\n",
    "        path = \"accounts/{}/\".format(accountType)\n",
    "        directories = [f for f in os.listdir(path) if os.path.isdir(path+f)]\n",
    "        bankdata[accountType] = {}\n",
    "        for bankname in directories:\n",
    "            bankdata[accountType][bankname] = {\"date\":[], \"balance\":[], \"movements\":[]}\n",
    "            files = [os.path.join(path+bankname,f) for f in os.listdir(path+bankname)]\n",
    "            #files.sort(key=lambda x: os.path.getmtime(x))\n",
    "            print(f\"Total files found for {bankname}: {len(files)}\")\n",
    "            for datafile in files:\n",
    "                extension = os.path.splitext(datafile)[1]\n",
    "                if extension == \".xls\":\n",
    "                    #print(\"{} - {}\".format(bankname, datafile))\n",
    "                    (balance, date, movements) = processXLS(datafile, bankname)\n",
    "                    bankdata[accountType][bankname][\"balance\"].extend(balance)\n",
    "                    bankdata[accountType][bankname][\"date\"].extend(date)\n",
    "                    bankdata[accountType][bankname][\"movements\"].extend(movements)\n",
    "                if extension == '.xlsx':\n",
    "                    #print(\"{} - {}\".format(bankname, datafile))\n",
    "                    (balance, date, movements) = processXLSX(datafile, bankname)\n",
    "                    bankdata[accountType][bankname][\"balance\"].extend(balance)\n",
    "                    bankdata[accountType][bankname][\"date\"].extend(date)\n",
    "                    bankdata[accountType][bankname][\"movements\"].extend(movements)\n",
    "                if extension == \".csv\":\n",
    "                    #print(\"{} - {}\".format(bankname, datafile))\n",
    "                    (balance, date, movements) = processCSV(datafile, '\\t', bankname)\n",
    "                    bankdata[accountType][bankname][\"balance\"].extend(balance)\n",
    "                    bankdata[accountType][bankname][\"date\"].extend(date)\n",
    "                    bankdata[accountType][bankname][\"movements\"].extend(movements)\n",
    "\n",
    "    return sortDataFiles(bankdata)"
   ]
  },
  {
   "cell_type": "code",
   "execution_count": null,
   "metadata": {},
   "outputs": [],
   "source": [
    "def getIntervalDates(bankdata):\n",
    "    minDate = ''\n",
    "    maxDate = ''\n",
    "    first = True\n",
    "    \n",
    "    for accountType in ACCOUNTTYPES:\n",
    "        for bank in bankdata[accountType]:\n",
    "            dates = np.array(bankdata[accountType][bank]['date'])\n",
    "            \n",
    "            if first:\n",
    "                minDate = dates.min()\n",
    "                maxDate = dates.max()\n",
    "                \n",
    "                first = False\n",
    "            else:\n",
    "                if minDate > dates.min():\n",
    "                    minDate = dates.min()\n",
    "\n",
    "                if maxDate < dates.max():\n",
    "                    maxDate = dates.max()\n",
    "\n",
    "    return (minDate, maxDate)"
   ]
  },
  {
   "cell_type": "code",
   "execution_count": null,
   "metadata": {},
   "outputs": [],
   "source": [
    "def fillEmpty(bankdata, maxDate):\n",
    "    for accountType in ACCOUNTTYPES:\n",
    "        for bank in bankdata[accountType]:\n",
    "            if bankdata[accountType][bank]['date'][-1] != maxDate:\n",
    "                bankdata[accountType][bank][\"balance\"] = bankdata[accountType][bank][\"balance\"] + (bankdata[accountType][bank][\"balance\"][-1],)\n",
    "                bankdata[accountType][bank][\"date\"] = bankdata[accountType][bank][\"date\"] + (maxDate,)\n",
    "                \n",
    "    return bankdata"
   ]
  },
  {
   "cell_type": "markdown",
   "metadata": {
    "colab_type": "text",
    "id": "UhORmS5Wtt6D"
   },
   "source": [
    "### Traces"
   ]
  },
  {
   "cell_type": "markdown",
   "metadata": {},
   "source": [
    "#### Extra"
   ]
  },
  {
   "cell_type": "code",
   "execution_count": null,
   "metadata": {},
   "outputs": [],
   "source": [
    "def daterange(d1, d2):\n",
    "    return (d1 + dt.timedelta(days=i) for i in range((d2 - d1).days + 1))\n",
    "\n",
    "def get_trace_sum_balances(bankdata):\n",
    "    sum_balances = []\n",
    "    for accountType in ACCOUNTTYPES: # Account type\n",
    "        for bank in bankdata[accountType]: # Bank name\n",
    "            movements = bankdata[accountType][bank]['movements']\n",
    "            dates = bankdata[accountType][bank]['date']\n",
    "            balances = bankdata[accountType][bank]['balance']\n",
    "            sum_account = {}\n",
    "            for date, movement, balance in zip(dates, movements, balances):\n",
    "                if (date not in sum_account):\n",
    "                    sum_account[date] = balance\n",
    "                elif((balance < sum_account[date] and movement < 0) or (balance > sum_account[date] and movement > 0)):\n",
    "                    sum_account[date] = balance\n",
    "\n",
    "            sum_balances.append(sum_account)\n",
    "    \n",
    "    total = {}\n",
    "    (ini, fin) = getIntervalDates(bankdata)\n",
    "    for b in sum_balances:\n",
    "        last = 0\n",
    "        for d in daterange(ini, fin):\n",
    "            if d in b:\n",
    "                last = b[d]\n",
    "                if d in total:\n",
    "                    total[d] += b[d]\n",
    "                else:\n",
    "                    total[d] = b[d]\n",
    "            else:\n",
    "                if d in total:\n",
    "                    total[d] += last\n",
    "                else:\n",
    "                    total[d] = last\n",
    "                \n",
    "    \n",
    "    dates = total.keys()\n",
    "    balances = total.values()\n",
    "    \n",
    "    (dates, balances) = zip(*sorted(zip(dates, balances)))\n",
    "    \n",
    "    trace = go.Scatter(\n",
    "        x = dates,\n",
    "        y = balances,\n",
    "        name = \"All Accounts - Amount: \" + format(balances[-1], ',.2f').replace(\",\", \"X\").replace(\".\", \",\").replace(\"X\", \".\") + CURRENCY,\n",
    "        mode = 'lines',\n",
    "        line = dict ( width = 4 )\n",
    "    )\n",
    "\n",
    "    return (max(balances), trace)"
   ]
  },
  {
   "cell_type": "markdown",
   "metadata": {},
   "source": [
    "#### Build"
   ]
  },
  {
   "cell_type": "code",
   "execution_count": null,
   "metadata": {},
   "outputs": [],
   "source": [
    "def buildTraces(bankdata, min_trace = False, mean_trace = False, max_trace = False):\n",
    "    data = []\n",
    "    min_amount = 0\n",
    "    max_amount = 0\n",
    "    \n",
    "    for accountType in ACCOUNTTYPES: # Account type\n",
    "        for bank in bankdata[accountType]: # Bank name\n",
    "            dates = np.array(bankdata[accountType][bank]['date'])\n",
    "            movements = np.array(bankdata[accountType][bank]['movements'])\n",
    "            balances = np.array(bankdata[accountType][bank]['balance'])\n",
    "\n",
    "            total = 0\n",
    "            for date, movement, balance in zip(dates, movements, balances):\n",
    "                #Obtener total mejorado\n",
    "                if (total == 0):\n",
    "                    total = balance\n",
    "                elif((balance < total and movement < 0) or (balance > total and movement > 0)):\n",
    "                    total = balance\n",
    "            \n",
    "            bankName = '(' + accountType + ') ' + SUPPORTED_BANKS[bank]\n",
    "\n",
    "            trace_main = go.Scatter(\n",
    "                x = dates,\n",
    "                y = balances,\n",
    "                name = bankName + ': Saldo ' + str(format(total, ',.2f').replace(\",\", \"X\").replace(\".\", \",\").replace(\"X\", \".\")) + CURRENCY,\n",
    "                #line = dict(\n",
    "                #    color = 'green'\n",
    "                #),\n",
    "                mode = 'lines'\n",
    "            )\n",
    "            data.append(trace_main)\n",
    "\n",
    "            if max_trace:\n",
    "                trace_max = go.Scatter(\n",
    "                    x = dates,\n",
    "                    y = [balances.max() for f in dates],\n",
    "                    name = bankName + ': Saldo máximo',\n",
    "                    #visible = 'legendonly',\n",
    "                    #hoverinfo = 'name',\n",
    "                    line = dict(\n",
    "                        #color = 'cyan',\n",
    "                        width = 4,\n",
    "                        dash = 'dot'\n",
    "                    )\n",
    "                )\n",
    "                data.append(trace_max)\n",
    "\n",
    "            if mean_trace:\n",
    "                trace_mean = go.Scatter(\n",
    "                    x = dates,\n",
    "                    y = [balances.mean() for f in dates],\n",
    "                    name = bankName + ': Saldo medio',\n",
    "                    #hoverinfo = 'none',\n",
    "                    line = dict(\n",
    "                        #color = 'magenta',\n",
    "                        width = 4,\n",
    "                        dash = 'dashdot'\n",
    "                    )\n",
    "                )\n",
    "                data.append(trace_mean)\n",
    "\n",
    "            if min_trace:\n",
    "                trace_min = go.Scatter(\n",
    "                    x = dates,\n",
    "                    y = [balances.min() for f in dates],\n",
    "                    name = bankName + ': Saldo mínimo',\n",
    "                    line = dict(\n",
    "                        #color = 'red',\n",
    "                        width = 4,\n",
    "                        dash = 'dot'\n",
    "                    )\n",
    "                )\n",
    "                data.append(trace_min)\n",
    "                \n",
    "            # Extra\n",
    "            if balances.max() > max_amount:\n",
    "                max_amount = balances.max()\n",
    "    \n",
    "    max_amount, sum_trace = get_trace_sum_balances(bankdata)\n",
    "    data.append(sum_trace)\n",
    "    \n",
    "    return (data, min_amount, max_amount)"
   ]
  },
  {
   "cell_type": "code",
   "execution_count": null,
   "metadata": {},
   "outputs": [],
   "source": [
    "def buildPiggy(bankdata):\n",
    "    traces = []\n",
    "    \n",
    "    for bank in bankdata[SAVING]: # Bank name\n",
    "        balances = np.array(bankdata[SAVING][bank]['balance'])\n",
    "        \n",
    "        trace = go.Bar(\n",
    "            x = ['Piggy'],\n",
    "            y = [balances[-1]],\n",
    "            name = SUPPORTED_BANKS[bank]\n",
    "        )\n",
    "        \n",
    "        traces.append(trace)\n",
    "        \n",
    "    return traces"
   ]
  },
  {
   "cell_type": "code",
   "execution_count": null,
   "metadata": {},
   "outputs": [],
   "source": [
    "def buildProfit(bankdata):\n",
    "    data = []\n",
    "\n",
    "    for bank in bankdata[CURRENT]:\n",
    "        dates = bankdata[CURRENT][bank]['date']\n",
    "        movements = bankdata[CURRENT][bank]['movements']\n",
    "\n",
    "        profit = {}\n",
    "        for date, movement in zip(dates, movements):\n",
    "            key = str(date.month) + '/' + str(date.year)\n",
    "\n",
    "            if key in profit:\n",
    "                profit[key] += float(movement)\n",
    "            else:\n",
    "                profit[key] = float(movement)\n",
    "            \n",
    "        months = []\n",
    "        profits = []\n",
    "        for key, value in profit.items():\n",
    "            months.append(dt.datetime.strptime(key, '%m/%Y').date())\n",
    "            profits.append(value)\n",
    "        \n",
    "        trace = go.Bar(\n",
    "            x = months,\n",
    "            y = profits,\n",
    "            name = \"Profit for {}\".format(SUPPORTED_BANKS[bank])\n",
    "        )\n",
    "        data.append(trace)\n",
    "        \n",
    "    return data"
   ]
  },
  {
   "cell_type": "code",
   "execution_count": null,
   "metadata": {},
   "outputs": [],
   "source": [
    "def buildIncomesExpenses(bankdata):\n",
    "    data = []\n",
    "\n",
    "    for bank in bankdata[CURRENT]:\n",
    "        dates = bankdata[CURRENT][bank]['date']\n",
    "        movements = bankdata[CURRENT][bank]['movements']\n",
    "\n",
    "        incomes = {}\n",
    "        expenses = {}\n",
    "        for date, movement in zip(dates, movements):\n",
    "            key = str(date.month) + '/' + str(date.year)\n",
    "\n",
    "            if float(movement) > 0:\n",
    "                if key in incomes:\n",
    "                    incomes[key] += float(movement)\n",
    "                else:\n",
    "                    incomes[key] = float(movement)\n",
    "            else:\n",
    "                if key in expenses:\n",
    "                    expenses[key] += float(movement)\n",
    "                else:\n",
    "                    expenses[key] = float(movement)\n",
    "            \n",
    "        months_x = []\n",
    "        incomes_y = []\n",
    "        for key, value in incomes.items():\n",
    "            months_x.append(dt.datetime.strptime(key, '%m/%Y').date())\n",
    "            incomes_y.append(value)\n",
    "        \n",
    "        trace = go.Bar(\n",
    "            x = months_x,\n",
    "            y = incomes_y,\n",
    "            name = \"Incomes for {}\".format(SUPPORTED_BANKS[bank])\n",
    "        )\n",
    "        data.append(trace)\n",
    "        \n",
    "        months_x = []\n",
    "        expenses_y = []\n",
    "        for key, value in expenses.items():\n",
    "            months_x.append(dt.datetime.strptime(key, '%m/%Y').date())\n",
    "            expenses_y.append(value)\n",
    "        \n",
    "        trace = go.Bar(\n",
    "            x = months_x,\n",
    "            y = expenses_y,\n",
    "            name = \"Expenses for {}\".format(SUPPORTED_BANKS[bank])\n",
    "        )\n",
    "        data.append(trace)\n",
    "        \n",
    "    return data"
   ]
  },
  {
   "cell_type": "markdown",
   "metadata": {
    "colab_type": "text",
    "id": "_2CfE1HJtt6G"
   },
   "source": [
    "### Plot"
   ]
  },
  {
   "cell_type": "code",
   "execution_count": null,
   "metadata": {},
   "outputs": [],
   "source": [
    "def plot_general(bankdata, minDate, maxDate):\n",
    "    (data, _, _) = buildTraces(bankdata)\n",
    "    layout = go.Layout(title = 'Amount ' + minDate.strftime(\"%m/%d/%Y\") + ' - ' + maxDate.strftime(\"%m/%d/%Y\"),\n",
    "                  xaxis = dict(title = 'Date'),\n",
    "                  yaxis = dict(title = 'Amount (' + CURRENCY + ')'),\n",
    "                  showlegend = True\n",
    "    )\n",
    "\n",
    "    fig = dict(data=data, layout=layout)\n",
    "    py.offline.iplot(fig, filename='styled-line')"
   ]
  },
  {
   "cell_type": "code",
   "execution_count": null,
   "metadata": {},
   "outputs": [],
   "source": [
    "def plot_piggy(bankdata):\n",
    "    data = buildPiggy(bankdata)\n",
    "    layout = go.Layout(\n",
    "        title = 'Saving',\n",
    "        barmode='stack'\n",
    "    )\n",
    "\n",
    "    fig = go.Figure(data=data, layout=layout)\n",
    "    py.offline.iplot(fig, filename='stacked-bar')"
   ]
  },
  {
   "cell_type": "code",
   "execution_count": null,
   "metadata": {},
   "outputs": [],
   "source": [
    "def plot_super_view(bankdata, minDate, maxDate):\n",
    "    (data, min_amount, max_amount) = buildTraces(bankdata)\n",
    "    piggyData = buildPiggy(bankdata)\n",
    "    for piggyTrace in piggyData:\n",
    "        newTrace = go.Bar(\n",
    "            x = piggyTrace.x,\n",
    "            y = piggyTrace.y,\n",
    "            name = piggyTrace.name,\n",
    "            xaxis = 'x2',\n",
    "            yaxis = 'y2'\n",
    "        )\n",
    "        data.append(newTrace)\n",
    "    layout = go.Layout(\n",
    "        xaxis=dict(\n",
    "            domain=[0, 0.9],\n",
    "            title = 'Date',\n",
    "            rangeselector=dict(\n",
    "                buttons=list([\n",
    "                    dict(count=1,\n",
    "                         label='1 month',\n",
    "                         step='month',\n",
    "                         stepmode='backward'),\n",
    "                    dict(count=3,\n",
    "                         label='3 months',\n",
    "                         step='month',\n",
    "                         stepmode='backward'),\n",
    "                    dict(count=6,\n",
    "                         label='6 months',\n",
    "                         step='month',\n",
    "                         stepmode='backward'),\n",
    "                    dict(count=1,\n",
    "                        label='1 year',\n",
    "                        step='year',\n",
    "                        stepmode='backward'),\n",
    "                    dict(step='all')\n",
    "                ])\n",
    "            ),\n",
    "            rangeslider=dict(\n",
    "                visible = True\n",
    "            ),\n",
    "            type='date'\n",
    "        ),\n",
    "        yaxis=dict(\n",
    "            range=[min_amount, max_amount],\n",
    "            title = 'Amount (' + CURRENCY + ')'\n",
    "        ),\n",
    "        xaxis2=dict(\n",
    "            domain=[0.9, 1]\n",
    "        ),\n",
    "        yaxis2=dict(\n",
    "            anchor='x2',\n",
    "            range=[min_amount, max_amount],\n",
    "            showticklabels=False\n",
    "        ),\n",
    "        title = 'Super view ' + minDate.strftime(\"%m/%d/%Y\") + ' - ' + maxDate.strftime(\"%m/%d/%Y\"),\n",
    "        barmode='stack'\n",
    "    )\n",
    "    fig = go.Figure(data=data, layout=layout)\n",
    "    py.offline.iplot(fig, filename='side-by-side-subplot')"
   ]
  },
  {
   "cell_type": "code",
   "execution_count": null,
   "metadata": {},
   "outputs": [],
   "source": [
    "def plot_profit(bankdata):\n",
    "    data = buildProfit(bankdata)\n",
    "    layout = go.Layout(\n",
    "        title = 'Monthly profit',\n",
    "        barmode ='group',\n",
    "        xaxis = dict(title = 'Date'),\n",
    "        yaxis = dict(title = 'Amount (' + CURRENCY + ')')\n",
    "    )\n",
    "    fig = go.Figure(data=data, layout=layout)\n",
    "    py.offline.iplot(fig, filename='grouped-bar')"
   ]
  },
  {
   "cell_type": "code",
   "execution_count": null,
   "metadata": {},
   "outputs": [],
   "source": [
    "def plot_incomesExpenses(bankdata):\n",
    "    data = buildIncomesExpenses(bankdata)\n",
    "    layout = go.Layout(\n",
    "      xaxis = dict(title = 'Date'),\n",
    "      yaxis = dict(title = 'Amount (' + CURRENCY + ')'),\n",
    "      barmode = 'relative',\n",
    "      title = 'Incomes and expenses'\n",
    "    )\n",
    "    fig = go.Figure(data=data, layout=layout)\n",
    "    py.offline.iplot(fig, filename='barmode-relative')"
   ]
  },
  {
   "cell_type": "code",
   "execution_count": null,
   "metadata": {},
   "outputs": [],
   "source": [
    "def plot_incomesExpensesProfits(bankdata):\n",
    "    data = buildIncomesExpenses(bankdata)\n",
    "    \n",
    "    dataProfit = buildProfit(bankdata)\n",
    "    \n",
    "    # Profits per bank\n",
    "    for barProfit in dataProfit:\n",
    "        trace_profit = go.Scatter(\n",
    "            x = barProfit.x,\n",
    "            y = barProfit.y,\n",
    "            name = barProfit.name,\n",
    "            mode = 'markers'\n",
    "        )\n",
    "        data.append(trace_profit)\n",
    "    \n",
    "    # Total profits\n",
    "    totalProfits = {}\n",
    "    for barProfit in dataProfit:\n",
    "        for date, value in zip(barProfit.x, barProfit.y):\n",
    "            key = date.strftime(\"%m/%Y\")\n",
    "            if key in totalProfits:\n",
    "                totalProfits[key] += value\n",
    "            else:\n",
    "                totalProfits[key] = value\n",
    "    \n",
    "    xs = []\n",
    "    ys = []\n",
    "    for key, value in totalProfits.items():\n",
    "        xs.append(dt.datetime.strptime(key, '%m/%Y').date())\n",
    "        ys.append(value)\n",
    "    \n",
    "    trace_profit = go.Scatter(\n",
    "        x = xs,\n",
    "        y = ys,\n",
    "        name = 'Profit',\n",
    "        mode = 'markers',\n",
    "        marker = dict(\n",
    "            size = 10,\n",
    "            line = dict(\n",
    "                width = 2,\n",
    "            )\n",
    "        )\n",
    "    )\n",
    "    data.append(trace_profit)\n",
    "    \n",
    "    layout = go.Layout(\n",
    "      xaxis = dict(\n",
    "          title = 'Date',\n",
    "          rangeselector=dict(\n",
    "            buttons=list([\n",
    "                dict(count=1,\n",
    "                     label='1 month',\n",
    "                     step='month',\n",
    "                     stepmode='backward'),\n",
    "                dict(count=3,\n",
    "                     label='3 months',\n",
    "                     step='month',\n",
    "                     stepmode='backward'),\n",
    "                dict(count=6,\n",
    "                     label='6 months',\n",
    "                     step='month',\n",
    "                     stepmode='backward'),\n",
    "                dict(count=1,\n",
    "                    label='1 year',\n",
    "                    step='year',\n",
    "                    stepmode='backward'),\n",
    "                dict(step='all')\n",
    "            ])\n",
    "        ),\n",
    "        rangeslider=dict(\n",
    "            visible = True\n",
    "        ),\n",
    "        type='date'\n",
    "      ),\n",
    "      yaxis = dict(title = 'Amount (' + CURRENCY + ')'),\n",
    "      barmode = 'relative',\n",
    "      title = 'Incomes, expenses and profit'\n",
    "    )\n",
    "    fig = go.Figure(data=data, layout=layout)\n",
    "    py.offline.iplot(fig, filename='barmode-relative')"
   ]
  },
  {
   "cell_type": "markdown",
   "metadata": {},
   "source": [
    "### Main"
   ]
  },
  {
   "cell_type": "code",
   "execution_count": null,
   "metadata": {
    "colab": {
     "base_uri": "https://localhost:8080/",
     "height": 542
    },
    "colab_type": "code",
    "id": "KtGF8TT7tt6G",
    "outputId": "43d678ed-0d55-4fd6-e700-f625de88b977",
    "scrolled": false
   },
   "outputs": [],
   "source": [
    "bankdata = loadDataFiles() # Load files\n",
    "(minDate, maxDate) = getIntervalDates(bankdata) # Get dates interval\n",
    "bankdata = fillEmpty(bankdata, maxDate) # Fill missing data with the same value\n",
    "\n",
    "#plot_general(bankdata, minDate, maxDate)\n",
    "#plot_piggy(bankdata)\n",
    "plot_super_view(bankdata, minDate, maxDate)\n",
    "#plot_profit(bankdata)\n",
    "#plot_incomesExpenses(bankdata)\n",
    "plot_incomesExpensesProfits(bankdata)"
   ]
  },
  {
   "cell_type": "code",
   "execution_count": null,
   "metadata": {},
   "outputs": [],
   "source": []
  }
 ],
 "metadata": {
  "colab": {
   "name": "Saldo.ipynb",
   "provenance": [],
   "toc_visible": true,
   "version": "0.3.2"
  },
  "kernelspec": {
   "display_name": "Python 3.9.13 64-bit (microsoft store)",
   "language": "python",
   "name": "python3"
  },
  "language_info": {
   "codemirror_mode": {
    "name": "ipython",
    "version": 3
   },
   "file_extension": ".py",
   "mimetype": "text/x-python",
   "name": "python",
   "nbconvert_exporter": "python",
   "pygments_lexer": "ipython3",
   "version": "3.9.13"
  },
  "vscode": {
   "interpreter": {
    "hash": "afcd2cba47a89e827aa7f70336515a79553125b14a6a9805bc8b341e7a5cf456"
   }
  }
 },
 "nbformat": 4,
 "nbformat_minor": 1
}
