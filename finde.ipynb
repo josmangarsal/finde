{
 "cells": [
  {
   "cell_type": "markdown",
   "metadata": {
    "colab_type": "text",
    "id": "Bp93hvj5tt5q"
   },
   "source": [
    "# FInDe"
   ]
  },
  {
   "cell_type": "markdown",
   "metadata": {},
   "source": [
    "## Availables banks\n",
    "- Cajamar\n",
    "- Openbank\n",
    "- Unicaja"
   ]
  },
  {
   "cell_type": "markdown",
   "metadata": {},
   "source": [
    "## Fist step\n",
    "Put your csv or xls files inside ```accounts/current/<bank_name>/file``` and ```accounts/savings/<bank_name>/file```"
   ]
  },
  {
   "cell_type": "markdown",
   "metadata": {
    "colab_type": "text",
    "id": "JejdE5Kstt5t"
   },
   "source": [
    "## Requisites"
   ]
  },
  {
   "cell_type": "code",
   "execution_count": 7,
   "metadata": {
    "colab": {},
    "colab_type": "code",
    "collapsed": true,
    "id": "oYUEQw_9tt5v",
    "outputId": "bad06c29-45c6-4f11-b566-aa3d1d75bc42"
   },
   "outputs": [
    {
     "name": "stdout",
     "output_type": "stream",
     "text": [
      "Requirement already satisfied: plotly in /home/josman/anaconda3/lib/python3.7/site-packages (3.6.1)\n",
      "Requirement already satisfied: decorator>=4.0.6 in /home/josman/anaconda3/lib/python3.7/site-packages (from plotly) (4.3.0)\n",
      "Requirement already satisfied: nbformat>=4.2 in /home/josman/anaconda3/lib/python3.7/site-packages (from plotly) (4.4.0)\n",
      "Requirement already satisfied: requests in /home/josman/anaconda3/lib/python3.7/site-packages (from plotly) (2.21.0)\n",
      "Requirement already satisfied: retrying>=1.3.3 in /home/josman/anaconda3/lib/python3.7/site-packages (from plotly) (1.3.3)\n",
      "Requirement already satisfied: six in /home/josman/anaconda3/lib/python3.7/site-packages (from plotly) (1.12.0)\n",
      "Requirement already satisfied: pytz in /home/josman/anaconda3/lib/python3.7/site-packages (from plotly) (2018.7)\n",
      "Requirement already satisfied: jsonschema!=2.5.0,>=2.4 in /home/josman/anaconda3/lib/python3.7/site-packages (from nbformat>=4.2->plotly) (2.6.0)\n",
      "Requirement already satisfied: ipython-genutils in /home/josman/anaconda3/lib/python3.7/site-packages (from nbformat>=4.2->plotly) (0.2.0)\n",
      "Requirement already satisfied: jupyter-core in /home/josman/anaconda3/lib/python3.7/site-packages (from nbformat>=4.2->plotly) (4.4.0)\n",
      "Requirement already satisfied: traitlets>=4.1 in /home/josman/anaconda3/lib/python3.7/site-packages (from nbformat>=4.2->plotly) (4.3.2)\n",
      "Requirement already satisfied: idna<2.9,>=2.5 in /home/josman/anaconda3/lib/python3.7/site-packages (from requests->plotly) (2.8)\n",
      "Requirement already satisfied: chardet<3.1.0,>=3.0.2 in /home/josman/anaconda3/lib/python3.7/site-packages (from requests->plotly) (3.0.4)\n",
      "Requirement already satisfied: certifi>=2017.4.17 in /home/josman/anaconda3/lib/python3.7/site-packages (from requests->plotly) (2018.11.29)\n",
      "Requirement already satisfied: urllib3<1.25,>=1.21.1 in /home/josman/anaconda3/lib/python3.7/site-packages (from requests->plotly) (1.24.1)\n",
      "Requirement already satisfied: xlrd in /home/josman/anaconda3/lib/python3.7/site-packages (1.2.0)\n"
     ]
    }
   ],
   "source": [
    "!pip install plotly"
   ]
  },
  {
   "cell_type": "markdown",
   "metadata": {
    "colab_type": "text",
    "id": "wP-OzZ68tt56"
   },
   "source": [
    "## Code"
   ]
  },
  {
   "cell_type": "markdown",
   "metadata": {
    "colab_type": "text",
    "id": "PtUwCdHVtt58"
   },
   "source": [
    "### Imports"
   ]
  },
  {
   "cell_type": "code",
   "execution_count": 8,
   "metadata": {
    "colab": {
     "base_uri": "https://localhost:8080/",
     "height": 17
    },
    "colab_type": "code",
    "id": "iDUY_DZutt5-",
    "outputId": "124aafe4-ef09-46f3-ef3e-120fdc2541cb"
   },
   "outputs": [
    {
     "data": {
      "text/html": [
       "<script type=\"text/javascript\">window.PlotlyConfig = {MathJaxConfig: 'local'};</script><script type=\"text/javascript\">if (window.MathJax) {MathJax.Hub.Config({SVG: {font: \"STIX-Web\"}});}</script><script>requirejs.config({paths: { 'plotly': ['https://cdn.plot.ly/plotly-latest.min']},});if(!window._Plotly) {require(['plotly'],function(plotly) {window._Plotly=plotly;});}</script>"
      ],
      "text/vnd.plotly.v1+html": [
       "<script type=\"text/javascript\">window.PlotlyConfig = {MathJaxConfig: 'local'};</script><script type=\"text/javascript\">if (window.MathJax) {MathJax.Hub.Config({SVG: {font: \"STIX-Web\"}});}</script><script>requirejs.config({paths: { 'plotly': ['https://cdn.plot.ly/plotly-latest.min']},});if(!window._Plotly) {require(['plotly'],function(plotly) {window._Plotly=plotly;});}</script>"
      ]
     },
     "metadata": {},
     "output_type": "display_data"
    }
   ],
   "source": [
    "import plotly as py\n",
    "import plotly.graph_objs as go\n",
    "\n",
    "import numpy as np\n",
    "import datetime as dt\n",
    "import os.path\n",
    "import xlrd\n",
    "import pandas as pd\n",
    "\n",
    "py.offline.init_notebook_mode(connected=True)"
   ]
  },
  {
   "cell_type": "markdown",
   "metadata": {
    "colab_type": "text",
    "id": "MXwOqGAitt6A"
   },
   "source": [
    "### Process CSV and XLS"
   ]
  },
  {
   "cell_type": "code",
   "execution_count": 82,
   "metadata": {
    "colab": {},
    "colab_type": "code",
    "id": "MVG8B78zveBB"
   },
   "outputs": [],
   "source": [
    "def processCSV(file, splitToken, bank): #TODO Move to pandas\n",
    "    fecha = []\n",
    "    saldo = []\n",
    "    first = True\n",
    "    \n",
    "    if bank == 'cajamar':\n",
    "        with open(file) as f:\n",
    "            for line in f:\n",
    "                if first is False:\n",
    "                    tokens = line.split(splitToken)\n",
    "                    fecha.append(dt.datetime.strptime(tokens[0], '%d/%m/%Y').date())\n",
    "                    saldo.append(float(tokens[len(tokens)-1][:-1].replace('.', '').replace(',', '.')))\n",
    "                first = False\n",
    "\n",
    "    return (saldo, fecha)"
   ]
  },
  {
   "cell_type": "code",
   "execution_count": 71,
   "metadata": {},
   "outputs": [],
   "source": [
    "def processXLS(file, bank):   \n",
    "    balance = []\n",
    "    date = []\n",
    "    \n",
    "    if bank == 'unicaja':\n",
    "        book = xlrd.open_workbook(file)\n",
    "        first_sheet = book.sheet_by_index(0)\n",
    "        date_int = first_sheet.col_values(0)[5:]\n",
    "        balance = first_sheet.col_values(5)[5:]\n",
    "        date = [xlrd.xldate_as_datetime(date_int[i], book.datemode).date().isoformat() for i in  xrange(0, len(date_int))]\n",
    "    \n",
    "    if bank == 'openbank':\n",
    "        df = pd.read_html(datafile)\n",
    "        df = df[0].dropna(axis=0, thresh=4)\n",
    "        dates = df.iloc[1:,1]\n",
    "        balance = df.iloc[1:,9]\n",
    "\n",
    "    return (balance, date)"
   ]
  },
  {
   "cell_type": "markdown",
   "metadata": {
    "colab_type": "text",
    "id": "UhORmS5Wtt6D"
   },
   "source": [
    "### Traces"
   ]
  },
  {
   "cell_type": "code",
   "execution_count": 96,
   "metadata": {},
   "outputs": [],
   "source": [
    "def builtTraces(bankdata):\n",
    "    data = []\n",
    "    for bank in bankdata: # Bank name\n",
    "        dates = np.array(bankdata[bank]['date'])\n",
    "        balances = np.array(bankdata[bank]['balance'])\n",
    "        \n",
    "        trace_main = go.Scatter(\n",
    "            x = dates,\n",
    "            y = balances,\n",
    "            name = str(bank) + ': Saldo ' + str(format(balances[-1], ',.2f').replace(\",\", \"X\").replace(\".\", \",\").replace(\"X\", \".\")) + '€',\n",
    "            line = dict(\n",
    "                color = 'green'\n",
    "            ),\n",
    "            mode = 'lines'\n",
    "        )\n",
    "        data.push(trace_main)\n",
    "        \n",
    "        trace_max = go.Scatter(\n",
    "            x = dates,\n",
    "            y = [balances.max() for f in dates],\n",
    "            name = str(bank) + ': Saldo máximo',\n",
    "            #visible = 'legendonly',\n",
    "            #hoverinfo = 'name',\n",
    "            line = dict(\n",
    "                color = 'cyan',\n",
    "                width = 4,\n",
    "                dash = 'dot'\n",
    "            )\n",
    "        )\n",
    "        data.push(trace_max)\n",
    "        \n",
    "        trace_mean = go.Scatter(\n",
    "            x = dates,\n",
    "            y = [balances.mean() for f in dates],\n",
    "            name = str(bank) + ': Saldo medio',\n",
    "            #hoverinfo = 'none',\n",
    "            line = dict(\n",
    "                color = 'magenta',\n",
    "                width = 4,\n",
    "                dash = 'dashdot'\n",
    "            )\n",
    "        )\n",
    "        data.push(trace_mean)\n",
    "        \n",
    "        trace_min = go.Scatter(\n",
    "            x = dates,\n",
    "            y = [balances.min() for f in dates],\n",
    "            name = str(bank) + ': Saldo mínimo',\n",
    "            line = dict(\n",
    "                color = 'red',\n",
    "                width = 4,\n",
    "                dash = 'dot'\n",
    "            )\n",
    "        )\n",
    "        data.push(trace_min)\n",
    "        \n",
    "return data"
   ]
  },
  {
   "cell_type": "code",
   "execution_count": 97,
   "metadata": {},
   "outputs": [
    {
     "name": "stdout",
     "output_type": "stream",
     "text": [
      "Files found:\n",
      "> openbank/accounts/current/openbank/nomina.xls\n",
      "> cajamar/accounts/current/cajamar/saldo.csv\n"
     ]
    },
    {
     "ename": "ValueError",
     "evalue": "Unknown format code 'f' for object of type 'numpy.str_'",
     "output_type": "error",
     "traceback": [
      "\u001b[0;31m---------------------------------------------------------------------------\u001b[0m",
      "\u001b[0;31mValueError\u001b[0m                                Traceback (most recent call last)",
      "\u001b[0;32m<ipython-input-97-dad5138cc100>\u001b[0m in \u001b[0;36m<module>\u001b[0;34m\u001b[0m\n\u001b[1;32m     20\u001b[0m             \u001b[0mbankdata\u001b[0m\u001b[0;34m[\u001b[0m\u001b[0mbankname\u001b[0m\u001b[0;34m]\u001b[0m\u001b[0;34m[\u001b[0m\u001b[0;34m\"date\"\u001b[0m\u001b[0;34m]\u001b[0m\u001b[0;34m.\u001b[0m\u001b[0mextend\u001b[0m\u001b[0;34m(\u001b[0m\u001b[0mdate\u001b[0m\u001b[0;34m)\u001b[0m\u001b[0;34m\u001b[0m\u001b[0;34m\u001b[0m\u001b[0m\n\u001b[1;32m     21\u001b[0m \u001b[0;34m\u001b[0m\u001b[0m\n\u001b[0;32m---> 22\u001b[0;31m \u001b[0mdata\u001b[0m \u001b[0;34m=\u001b[0m \u001b[0mbuiltTraces\u001b[0m\u001b[0;34m(\u001b[0m\u001b[0mbankdata\u001b[0m\u001b[0;34m)\u001b[0m\u001b[0;34m\u001b[0m\u001b[0;34m\u001b[0m\u001b[0m\n\u001b[0m",
      "\u001b[0;32mcell_name\u001b[0m in \u001b[0;36mbuiltTraces\u001b[0;34m(bankdata)\u001b[0m\n",
      "\u001b[0;31mValueError\u001b[0m: Unknown format code 'f' for object of type 'numpy.str_'"
     ]
    }
   ],
   "source": [
    "print(\"Files found:\")\n",
    "path = \"accounts/current/\"\n",
    "directories = [f for f in os.listdir(path) if os.path.isdir(path+f)]\n",
    "bankdata = {}\n",
    "for bankname in directories:\n",
    "    bankdata[bankname] = {\"date\":[], \"balance\":[]}\n",
    "    files = [os.path.join(path+bankname,f) for f in os.listdir(path+bankname)]\n",
    "    files.sort(key=lambda x: os.path.getmtime(x))\n",
    "    for datafile in files:\n",
    "        extension = os.path.splitext(datafile)[1]\n",
    "        if extension == \".xls\":\n",
    "            print(\"> \" + bankname + \"/\" + datafile)            \n",
    "            (balance, date) = processXLS(datafile, bankname)\n",
    "            bankdata[bankname][\"balance\"].extend(balance)\n",
    "            bankdata[bankname][\"date\"].extend(date)\n",
    "        if extension == \".csv\":\n",
    "            print(\"> \" + bankname + \"/\" + datafile)            \n",
    "            (balance, date) = processCSV(datafile, '\\t', bankname)\n",
    "            bankdata[bankname][\"balance\"].extend(balance)\n",
    "            bankdata[bankname][\"date\"].extend(date)\n",
    "\n",
    "data = builtTraces(bankdata)"
   ]
  },
  {
   "cell_type": "markdown",
   "metadata": {},
   "source": [
    "#### Cajamar y Openbank"
   ]
  },
  {
   "cell_type": "code",
   "execution_count": null,
   "metadata": {
    "colab": {},
    "colab_type": "code",
    "id": "Lwhw38ittt6E"
   },
   "outputs": [],
   "source": [
    "trace_main_cajamar = go.Scatter(\n",
    "    x = fechasCajamar,\n",
    "    y = saldosCajamar,\n",
    "    name = 'Cajamar: Saldo ' + str(format(saldosCajamar[-1], ',.2f').replace(\",\", \"X\").replace(\".\", \",\").replace(\"X\", \".\")) + '€',\n",
    "    line = dict(\n",
    "        color = 'green'\n",
    "    ),\n",
    "    mode = 'lines'\n",
    ")\n",
    "trace_max_cajamar = go.Scatter(\n",
    "    x = fechasCajamar,\n",
    "    y = [saldosCajamar.max() for f in fechasCajamar],\n",
    "    name = 'Cajamar: Saldo máximo',\n",
    "    #visible = 'legendonly',\n",
    "    #hoverinfo = 'name',\n",
    "    line = dict(\n",
    "        color = 'cyan',\n",
    "        width = 4,\n",
    "        dash = 'dot'\n",
    "    )\n",
    ")\n",
    "trace_mean_cajamar = go.Scatter(\n",
    "    x = fechasCajamar,\n",
    "    y = [saldosCajamar.mean() for f in fechasCajamar],\n",
    "    name = 'Cajamar: Saldo medio',\n",
    "    #hoverinfo = 'none',\n",
    "    line = dict(\n",
    "        color = 'magenta',\n",
    "        width = 4,\n",
    "        dash = 'dashdot'\n",
    "    )\n",
    ")\n",
    "trace_min_cajamar = go.Scatter(\n",
    "    x = fechasCajamar,\n",
    "    y = [saldosCajamar.min() for f in fechasCajamar],\n",
    "    name = 'Cajamar: Saldo mínimo',\n",
    "    line = dict(\n",
    "        color = 'red',\n",
    "        width = 4,\n",
    "        dash = 'dot'\n",
    "    )\n",
    ")\n",
    "\n",
    "trace_main_openAhorro = go.Scatter(\n",
    "    x = fechasOpenAhorro,\n",
    "    y = saldosOpenAhorro,\n",
    "    name = 'OpenAhorro: Saldo ' + str(format(saldosOpenAhorro[0], ',.2f').replace(\",\", \"X\").replace(\".\", \",\").replace(\"X\", \".\")) + '€',\n",
    "    line = dict(\n",
    "        color = 'blue'\n",
    "    ),\n",
    "    mode = 'lines'\n",
    ")\n",
    "\n",
    "trace_main_openNomina = go.Scatter(\n",
    "    x = fechasOpenNomina,\n",
    "    y = saldosOpenNomina,\n",
    "    name = 'OpenNomina: Saldo ' + str(format(saldosOpenNomina[0], ',.2f').replace(\",\", \"X\").replace(\".\", \",\").replace(\"X\", \".\")) + '€',\n",
    "    line = dict(\n",
    "        color = 'darkred'\n",
    "    ),\n",
    "    mode = 'lines'\n",
    ")\n",
    "\n",
    "data = [trace_main_cajamar, trace_max_cajamar, trace_mean_cajamar, trace_min_cajamar,\n",
    "        trace_main_openAhorro, trace_main_openNomina]"
   ]
  },
  {
   "cell_type": "markdown",
   "metadata": {
    "colab_type": "text",
    "id": "_2CfE1HJtt6G"
   },
   "source": [
    "### Plot"
   ]
  },
  {
   "cell_type": "markdown",
   "metadata": {},
   "source": [
    "#### Cajamar y Openbank"
   ]
  },
  {
   "cell_type": "code",
   "execution_count": null,
   "metadata": {
    "colab": {
     "base_uri": "https://localhost:8080/",
     "height": 542
    },
    "colab_type": "code",
    "id": "KtGF8TT7tt6G",
    "outputId": "43d678ed-0d55-4fd6-e700-f625de88b977"
   },
   "outputs": [],
   "source": [
    "layout = go.Layout(title = 'Saldo ' + str(fechasCaja[-1]) + ' / ' + str(fechasOpen[0]),\n",
    "              xaxis = dict(title = 'Fecha'),\n",
    "              yaxis = dict(title = 'Saldo (€)'),\n",
    "              showlegend = True\n",
    ")\n",
    "\n",
    "fig = dict(data=data, layout=layout)\n",
    "py.offline.iplot(fig, filename='styled-line')"
   ]
  },
  {
   "cell_type": "markdown",
   "metadata": {},
   "source": [
    "### Full Unicaja Auto"
   ]
  },
  {
   "cell_type": "code",
   "execution_count": null,
   "metadata": {},
   "outputs": [],
   "source": [
    "def processXLS(file, bank):   \n",
    "    balance = []\n",
    "    date = []\n",
    "    if bank == 'unicaja':\n",
    "        book = xlrd.open_workbook(file)\n",
    "        first_sheet = book.sheet_by_index(0)\n",
    "        date_int = first_sheet.col_values(0)[5:]\n",
    "        balance = first_sheet.col_values(5)[5:]\n",
    "        date = [xlrd.xldate_as_datetime(date_int[i], book.datemode).date().isoformat() for i in  xrange(0, len(date_int))]\n",
    "    return (balance, date)\n",
    "\n",
    "print(\"Files found:\")\n",
    "path = \"accounts/current/\"\n",
    "directories = [f for f in os.listdir(path) if os.path.isdir(path+f)]\n",
    "bankdata = {}\n",
    "for bankname in directories:\n",
    "    bankdata[bankname] = {\"fechas\":[], \"saldos\":[]}\n",
    "    files = [os.path.join(path+bankname,f) for f in os.listdir(path+bankname)]\n",
    "    files.sort(key=lambda x: os.path.getmtime(x))\n",
    "    for datafile in files:\n",
    "        extension = os.path.splitext(datafile)[1]\n",
    "        if extension == \".xls\":\n",
    "            print(\"> \"+bankname+\"/\"+datafile)\n",
    "            (balance, date) = processXLS(datafile, bankname)\n",
    "            bankdata[bankname][\"saldos\"].extend(balance)\n",
    "            bankdata[bankname][\"fechas\"].extend(date)\n",
    "\n",
    "saldos = bankdata[\"unicaja\"][\"saldos\"]\n",
    "fechas = bankdata[\"unicaja\"][\"fechas\"]\n",
    "\n",
    "trace_main_unicaja = go.Scatter(\n",
    "    x = fechas,\n",
    "    y = saldos,\n",
    "    name = 'Unicaja: Saldo ' + str(format(saldos[-1], ',.2f').replace(\",\", \"X\").replace(\".\", \",\").replace(\"X\", \".\")) + '€',\n",
    "    line = dict(\n",
    "        color = 'green'\n",
    "    ),\n",
    "    mode = 'lines'\n",
    ")\n",
    "\n",
    "data = [trace_main_unicaja]\n",
    "\n",
    "layout = go.Layout(title = 'Saldo ' + str(fechas[-1]),\n",
    "              xaxis = dict(title = 'Fecha'),\n",
    "              yaxis = dict(title = 'Saldo (€)'),\n",
    "              showlegend = True\n",
    ")\n",
    "fig = dict(data=data, layout=layout)\n",
    "py.offline.iplot(fig)\n"
   ]
  }
 ],
 "metadata": {
  "colab": {
   "name": "Saldo.ipynb",
   "provenance": [],
   "toc_visible": true,
   "version": "0.3.2"
  },
  "kernelspec": {
   "display_name": "Python 3",
   "language": "python",
   "name": "python3"
  },
  "language_info": {
   "codemirror_mode": {
    "name": "ipython",
    "version": 3
   },
   "file_extension": ".py",
   "mimetype": "text/x-python",
   "name": "python",
   "nbconvert_exporter": "python",
   "pygments_lexer": "ipython3",
   "version": "3.7.1"
  }
 },
 "nbformat": 4,
 "nbformat_minor": 1
}
