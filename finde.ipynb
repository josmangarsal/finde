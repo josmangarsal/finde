{
 "cells": [
  {
   "cell_type": "markdown",
   "metadata": {
    "colab_type": "text",
    "id": "Bp93hvj5tt5q"
   },
   "source": [
    "# Script saldo Cajamar, OpenBank y Unicaja"
   ]
  },
  {
   "cell_type": "markdown",
   "metadata": {
    "colab_type": "text",
    "id": "JejdE5Kstt5t"
   },
   "source": [
    "## Requisites"
   ]
  },
  {
   "cell_type": "code",
   "execution_count": null,
   "metadata": {
    "colab": {},
    "colab_type": "code",
    "id": "oYUEQw_9tt5v",
    "outputId": "bad06c29-45c6-4f11-b566-aa3d1d75bc42"
   },
   "outputs": [],
   "source": [
    "!pip install plotly"
   ]
  },
  {
   "cell_type": "markdown",
   "metadata": {
    "colab_type": "text",
    "id": "wP-OzZ68tt56"
   },
   "source": [
    "## Code"
   ]
  },
  {
   "cell_type": "markdown",
   "metadata": {
    "colab_type": "text",
    "id": "PtUwCdHVtt58"
   },
   "source": [
    "### Imports"
   ]
  },
  {
   "cell_type": "code",
   "execution_count": null,
   "metadata": {
    "colab": {
     "base_uri": "https://localhost:8080/",
     "height": 17
    },
    "colab_type": "code",
    "id": "iDUY_DZutt5-",
    "outputId": "124aafe4-ef09-46f3-ef3e-120fdc2541cb"
   },
   "outputs": [],
   "source": [
    "import plotly as py\n",
    "import plotly.graph_objs as go\n",
    "\n",
    "import numpy as np\n",
    "import datetime as dt\n",
    "import os.path\n",
    "import xlrd\n",
    "\n",
    "py.offline.init_notebook_mode(connected=True)"
   ]
  },
  {
   "cell_type": "markdown",
   "metadata": {
    "colab_type": "text",
    "id": "MXwOqGAitt6A"
   },
   "source": [
    "### Read CSV"
   ]
  },
  {
   "cell_type": "code",
   "execution_count": null,
   "metadata": {
    "colab": {},
    "colab_type": "code",
    "id": "MVG8B78zveBB"
   },
   "outputs": [],
   "source": [
    "def processCSV(files, splitToken, bank):\n",
    "    fecha = []\n",
    "    saldo = []\n",
    "    \n",
    "    if bank == 'cajamar':\n",
    "        for file in files:\n",
    "            first = True\n",
    "            if os.path.exists(file):\n",
    "                with open(file) as f:\n",
    "                    for line in f:\n",
    "                        if first is False:\n",
    "                            tokens = line.split(splitToken)\n",
    "                            fecha.append(dt.datetime.strptime(tokens[0], '%d/%m/%Y').date())\n",
    "                            saldo.append(float(tokens[len(tokens)-1][:-1].replace('.', '').replace(',', '.')))\n",
    "                        first = False\n",
    "\n",
    "    if bank == 'openbank':\n",
    "        for file in files:\n",
    "            first = 0\n",
    "            if os.path.exists(file):\n",
    "                with open(file) as f:\n",
    "                    for line in f:                        \n",
    "                        if first > 11:\n",
    "                            tokens = line.split(splitToken)\n",
    "                            fecha.append(dt.datetime.strptime(tokens[1], '%d/%m/%Y').date())\n",
    "                            saldo.append(float(tokens[len(tokens)-1][:-1].replace('.', '').replace(',', '.')))\n",
    "                        first += 1\n",
    "\n",
    "    fecha = np.array(fecha)\n",
    "    saldo = np.array(saldo)\n",
    "\n",
    "    return (saldo, fecha)"
   ]
  },
  {
   "cell_type": "markdown",
   "metadata": {},
   "source": [
    "### Process data files"
   ]
  },
  {
   "cell_type": "markdown",
   "metadata": {},
   "source": [
    "#### Cajamar y Openbank"
   ]
  },
  {
   "cell_type": "code",
   "execution_count": null,
   "metadata": {
    "colab": {
     "base_uri": "https://localhost:8080/",
     "height": 212
    },
    "colab_type": "code",
    "id": "B7rXXwzPtt6B",
    "outputId": "51633cd9-3320-4fa2-95b5-b915fef73a76"
   },
   "outputs": [],
   "source": [
    "files = ['saldo.csv']\n",
    "(saldosCajamar, fechasCajamar) = processCSV(files, '\\t', 'cajamar')\n",
    "\n",
    "files = ['Nomina.csv']\n",
    "(saldosOpenNomina, fechasOpenNomina) = processCSV(files, '\\t', 'openbank')\n",
    "\n",
    "files = ['Ahorro.csv']\n",
    "(saldosOpenAhorro, fechasOpenAhorro) = processCSV(files, '\\t', 'openbank')\n",
    "\n",
    "saldosOpenAhorro = np.insert(saldosOpenAhorro, 0, saldosOpenAhorro[0], axis=0)\n",
    "fechasOpenAhorro = np.insert(fechasOpenAhorro, 0, fechasOpenNomina[0], axis=0)"
   ]
  },
  {
   "cell_type": "markdown",
   "metadata": {
    "colab_type": "text",
    "id": "UhORmS5Wtt6D"
   },
   "source": [
    "### Traces"
   ]
  },
  {
   "cell_type": "markdown",
   "metadata": {},
   "source": [
    "#### Cajamar y Openbank"
   ]
  },
  {
   "cell_type": "code",
   "execution_count": null,
   "metadata": {
    "colab": {},
    "colab_type": "code",
    "id": "Lwhw38ittt6E"
   },
   "outputs": [],
   "source": [
    "trace_main_cajamar = go.Scatter(\n",
    "    x = fechasCajamar,\n",
    "    y = saldosCajamar,\n",
    "    name = 'Cajamar: Saldo ' + str(format(saldosCajamar[-1], ',.2f').replace(\",\", \"X\").replace(\".\", \",\").replace(\"X\", \".\")) + '€',\n",
    "    line = dict(\n",
    "        color = 'green'\n",
    "    ),\n",
    "    mode = 'lines'\n",
    ")\n",
    "trace_max_cajamar = go.Scatter(\n",
    "    x = fechasCajamar,\n",
    "    y = [saldosCajamar.max() for f in fechasCajamar],\n",
    "    name = 'Cajamar: Saldo máximo',\n",
    "    #visible = 'legendonly',\n",
    "    #hoverinfo = 'name',\n",
    "    line = dict(\n",
    "        color = 'cyan',\n",
    "        width = 4,\n",
    "        dash = 'dot'\n",
    "    )\n",
    ")\n",
    "trace_mean_cajamar = go.Scatter(\n",
    "    x = fechasCajamar,\n",
    "    y = [saldosCajamar.mean() for f in fechasCajamar],\n",
    "    name = 'Cajamar: Saldo medio',\n",
    "    #hoverinfo = 'none',\n",
    "    line = dict(\n",
    "        color = 'magenta',\n",
    "        width = 4,\n",
    "        dash = 'dashdot'\n",
    "    )\n",
    ")\n",
    "trace_min_cajamar = go.Scatter(\n",
    "    x = fechasCajamar,\n",
    "    y = [saldosCajamar.min() for f in fechasCajamar],\n",
    "    name = 'Cajamar: Saldo mínimo',\n",
    "    line = dict(\n",
    "        color = 'red',\n",
    "        width = 4,\n",
    "        dash = 'dot'\n",
    "    )\n",
    ")\n",
    "\n",
    "trace_main_openAhorro = go.Scatter(\n",
    "    x = fechasOpenAhorro,\n",
    "    y = saldosOpenAhorro,\n",
    "    name = 'OpenAhorro: Saldo ' + str(format(saldosOpenAhorro[0], ',.2f').replace(\",\", \"X\").replace(\".\", \",\").replace(\"X\", \".\")) + '€',\n",
    "    line = dict(\n",
    "        color = 'blue'\n",
    "    ),\n",
    "    mode = 'lines'\n",
    ")\n",
    "\n",
    "trace_main_openNomina = go.Scatter(\n",
    "    x = fechasOpenNomina,\n",
    "    y = saldosOpenNomina,\n",
    "    name = 'OpenNomina: Saldo ' + str(format(saldosOpenNomina[0], ',.2f').replace(\",\", \"X\").replace(\".\", \",\").replace(\"X\", \".\")) + '€',\n",
    "    line = dict(\n",
    "        color = 'darkred'\n",
    "    ),\n",
    "    mode = 'lines'\n",
    ")\n",
    "\n",
    "data = [trace_main_cajamar, trace_max_cajamar, trace_mean_cajamar, trace_min_cajamar,\n",
    "        trace_main_openAhorro, trace_main_openNomina]"
   ]
  },
  {
   "cell_type": "markdown",
   "metadata": {
    "colab_type": "text",
    "id": "_2CfE1HJtt6G"
   },
   "source": [
    "### Plot"
   ]
  },
  {
   "cell_type": "markdown",
   "metadata": {},
   "source": [
    "#### Cajamar y Openbank"
   ]
  },
  {
   "cell_type": "code",
   "execution_count": null,
   "metadata": {
    "colab": {
     "base_uri": "https://localhost:8080/",
     "height": 542
    },
    "colab_type": "code",
    "id": "KtGF8TT7tt6G",
    "outputId": "43d678ed-0d55-4fd6-e700-f625de88b977"
   },
   "outputs": [],
   "source": [
    "layout = go.Layout(title = 'Saldo ' + str(fechasCaja[-1]) + ' / ' + str(fechasOpen[0]),\n",
    "              xaxis = dict(title = 'Fecha'),\n",
    "              yaxis = dict(title = 'Saldo (€)'),\n",
    "              showlegend = True\n",
    ")\n",
    "\n",
    "fig = dict(data=data, layout=layout)\n",
    "py.offline.iplot(fig, filename='styled-line')"
   ]
  },
  {
   "cell_type": "markdown",
   "metadata": {},
   "source": [
    "### Full Unicaja Auto"
   ]
  },
  {
   "cell_type": "code",
   "execution_count": null,
   "metadata": {},
   "outputs": [],
   "source": [
    "def processXLS(file, bank):   \n",
    "    balance = []\n",
    "    date = []\n",
    "    if bank == 'unicaja':\n",
    "        book = xlrd.open_workbook(file)\n",
    "        first_sheet = book.sheet_by_index(0)\n",
    "        date_int = first_sheet.col_values(0)[5:]\n",
    "        balance = first_sheet.col_values(5)[5:]\n",
    "        date = [xlrd.xldate_as_datetime(date_int[i], book.datemode).date().isoformat() for i in  xrange(0, len(date_int))]\n",
    "    return (balance, date)\n",
    "\n",
    "print(\"Files found:\")\n",
    "path = \"accounts/current/\"\n",
    "directories = [f for f in os.listdir(path) if os.path.isdir(path+f)]\n",
    "bankdata = {}\n",
    "for bankname in directories:\n",
    "    bankdata[bankname] = {\"fechas\":[], \"saldos\":[]}\n",
    "    files = [os.path.join(path+bankname,f) for f in os.listdir(path+bankname)]\n",
    "    files.sort(key=lambda x: os.path.getmtime(x))\n",
    "    for datafile in files:\n",
    "        extension = os.path.splitext(datafile)[1]\n",
    "        if extension == \".xls\":\n",
    "            print(\"> \"+bankname+\"/\"+datafile)\n",
    "            (balance, date) = processXLS(datafile, bankname)\n",
    "            bankdata[bankname][\"saldos\"].extend(balance)\n",
    "            bankdata[bankname][\"fechas\"].extend(date)\n",
    "\n",
    "saldos = bankdata[\"unicaja\"][\"saldos\"]\n",
    "fechas = bankdata[\"unicaja\"][\"fechas\"]\n",
    "\n",
    "trace_main_unicaja = go.Scatter(\n",
    "    x = fechas,\n",
    "    y = saldos,\n",
    "    name = 'Unicaja: Saldo ' + str(format(saldos[-1], ',.2f').replace(\",\", \"X\").replace(\".\", \",\").replace(\"X\", \".\")) + '€',\n",
    "    line = dict(\n",
    "        color = 'green'\n",
    "    ),\n",
    "    mode = 'lines'\n",
    ")\n",
    "\n",
    "data = [trace_main_unicaja]\n",
    "\n",
    "layout = go.Layout(title = 'Saldo ' + str(fechas[-1]),\n",
    "              xaxis = dict(title = 'Fecha'),\n",
    "              yaxis = dict(title = 'Saldo (€)'),\n",
    "              showlegend = True\n",
    ")\n",
    "fig = dict(data=data, layout=layout)\n",
    "py.offline.iplot(fig)\n"
   ]
  }
 ],
 "metadata": {
  "colab": {
   "name": "Saldo.ipynb",
   "provenance": [],
   "toc_visible": true,
   "version": "0.3.2"
  },
  "kernelspec": {
   "display_name": "Python 3",
   "language": "python",
   "name": "python3"
  },
  "language_info": {
   "codemirror_mode": {
    "name": "ipython",
    "version": 2
   },
   "file_extension": ".py",
   "mimetype": "text/x-python",
   "name": "python",
   "nbconvert_exporter": "python",
   "pygments_lexer": "ipython2",
   "version": "2.7.15rc1"
  }
 },
 "nbformat": 4,
 "nbformat_minor": 1
}
