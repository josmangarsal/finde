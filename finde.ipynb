{
 "cells": [
  {
   "cell_type": "markdown",
   "metadata": {
    "colab_type": "text",
    "id": "Bp93hvj5tt5q"
   },
   "source": [
    "# FInDe"
   ]
  },
  {
   "cell_type": "markdown",
   "metadata": {},
   "source": [
    "## Availables banks\n",
    "- Cajamar\n",
    "- Openbank\n",
    "- Unicaja"
   ]
  },
  {
   "cell_type": "markdown",
   "metadata": {},
   "source": [
    "## Fist step\n",
    "Put your csv or xls files inside ```accounts/current/<bank_name>/file``` and ```accounts/savings/<bank_name>/file```"
   ]
  },
  {
   "cell_type": "markdown",
   "metadata": {
    "colab_type": "text",
    "id": "JejdE5Kstt5t"
   },
   "source": [
    "## Requisites"
   ]
  },
  {
   "cell_type": "code",
   "execution_count": null,
   "metadata": {
    "colab": {},
    "colab_type": "code",
    "id": "oYUEQw_9tt5v",
    "outputId": "bad06c29-45c6-4f11-b566-aa3d1d75bc42"
   },
   "outputs": [],
   "source": [
    "!pip install plotly"
   ]
  },
  {
   "cell_type": "markdown",
   "metadata": {
    "colab_type": "text",
    "id": "wP-OzZ68tt56"
   },
   "source": [
    "## Code"
   ]
  },
  {
   "cell_type": "markdown",
   "metadata": {
    "colab_type": "text",
    "id": "PtUwCdHVtt58"
   },
   "source": [
    "### Imports"
   ]
  },
  {
   "cell_type": "code",
   "execution_count": null,
   "metadata": {
    "colab": {
     "base_uri": "https://localhost:8080/",
     "height": 17
    },
    "colab_type": "code",
    "id": "iDUY_DZutt5-",
    "outputId": "124aafe4-ef09-46f3-ef3e-120fdc2541cb"
   },
   "outputs": [],
   "source": [
    "import plotly as py\n",
    "import plotly.graph_objs as go\n",
    "\n",
    "import numpy as np\n",
    "import datetime as dt\n",
    "import os.path\n",
    "import xlrd\n",
    "import pandas as pd\n",
    "\n",
    "py.offline.init_notebook_mode(connected=True)"
   ]
  },
  {
   "cell_type": "markdown",
   "metadata": {},
   "source": [
    "### Constant and settings"
   ]
  },
  {
   "cell_type": "code",
   "execution_count": null,
   "metadata": {},
   "outputs": [],
   "source": [
    "CURRENT = \"current\"\n",
    "SAVING = \"saving\"\n",
    "ACCOUNTTYPES  = [CURRENT, SAVING]\n",
    "SUPPORTED_BANKS = {\n",
    "    \"unicaja\": \"Unicaja\",\n",
    "    \"cajamar\": \"Cajamar\",\n",
    "    \"openbank\": \"Openbank\"\n",
    "}"
   ]
  },
  {
   "cell_type": "markdown",
   "metadata": {
    "colab_type": "text",
    "id": "MXwOqGAitt6A"
   },
   "source": [
    "### Process CSV and XLS"
   ]
  },
  {
   "cell_type": "code",
   "execution_count": null,
   "metadata": {
    "colab": {},
    "colab_type": "code",
    "id": "MVG8B78zveBB"
   },
   "outputs": [],
   "source": [
    "def processCSV(file, splitToken, bank): #TODO Move to pandas\n",
    "    fecha = []\n",
    "    saldo = []\n",
    "    first = True\n",
    "    \n",
    "    if bank == 'cajamar':\n",
    "        with open(file) as f:\n",
    "            for line in f:\n",
    "                if first is False:\n",
    "                    tokens = line.split(splitToken)\n",
    "                    fecha.append(dt.datetime.strptime(tokens[0], '%d/%m/%Y').date())\n",
    "                    saldo.append(float(tokens[len(tokens)-1][:-1].replace('.', '').replace(',', '.')))\n",
    "                first = False\n",
    "\n",
    "    return (saldo, fecha)"
   ]
  },
  {
   "cell_type": "code",
   "execution_count": null,
   "metadata": {},
   "outputs": [],
   "source": [
    "def processXLS(file, bank):   \n",
    "    balance = []\n",
    "    date = []\n",
    "    \n",
    "    if bank == 'unicaja':\n",
    "        book = xlrd.open_workbook(file)\n",
    "        first_sheet = book.sheet_by_index(0)\n",
    "        date_int = first_sheet.col_values(0)[5:]\n",
    "        balance = first_sheet.col_values(5)[5:]\n",
    "        date = [xlrd.xldate_as_datetime(date_int[i], book.datemode).date().isoformat() for i in xrange(0, len(date_int))]\n",
    "    \n",
    "    if bank == 'openbank':\n",
    "        df = pd.read_html(file)\n",
    "        df = df[0].dropna(axis=0, thresh=4)\n",
    "        date_str = df.iloc[1:,1]\n",
    "        date = [dt.datetime.strptime(x, '%d/%m/%Y').date() for x in date_str]\n",
    "        balance_str = df.iloc[1:,9]\n",
    "        balance = [float((x[:-2] + ',' + x[-2:]).replace('.','').replace(',','.')) for x in balance_str]\n",
    "\n",
    "    return (balance, date)"
   ]
  },
  {
   "cell_type": "markdown",
   "metadata": {},
   "source": [
    "### Load files"
   ]
  },
  {
   "cell_type": "code",
   "execution_count": null,
   "metadata": {},
   "outputs": [],
   "source": [
    "def sortDataFiles(bankdata):\n",
    "    for accountType in ACCOUNTTYPES:\n",
    "        for bankname in bankdata[accountType]:\n",
    "            (bankdata[accountType][bankname][\"date\"],bankdata[accountType][bankname][\"balance\"]) =zip(*sorted(zip(bankdata[accountType][bankname][\"date\"], bankdata[accountType][bankname][\"balance\"])))\n",
    "            \n",
    "    return bankdata"
   ]
  },
  {
   "cell_type": "code",
   "execution_count": null,
   "metadata": {},
   "outputs": [],
   "source": [
    "def loadDataFiles():    \n",
    "    print(\"Data files found:\")\n",
    "    bankdata = {}\n",
    "    for accountType in ACCOUNTTYPES:\n",
    "        path = \"accounts/{}/\".format(accountType)\n",
    "        directories = [f for f in os.listdir(path) if os.path.isdir(path+f)]\n",
    "        bankdata[accountType] = {}\n",
    "        for bankname in directories:\n",
    "            bankdata[accountType][bankname] = {\"date\":[], \"balance\":[]}\n",
    "            files = [os.path.join(path+bankname,f) for f in os.listdir(path+bankname)]\n",
    "            #files.sort(key=lambda x: os.path.getmtime(x))\n",
    "            for datafile in files:\n",
    "                extension = os.path.splitext(datafile)[1]\n",
    "                if extension == \".xls\":\n",
    "                    print(\"{} - {}\".format(bankname, datafile))\n",
    "                    (balance, date) = processXLS(datafile, bankname)\n",
    "                    bankdata[accountType][bankname][\"balance\"].extend(balance)\n",
    "                    bankdata[accountType][bankname][\"date\"].extend(date)\n",
    "                if extension == \".csv\":\n",
    "                    print(\"{} - {}\".format(bankname, datafile))\n",
    "                    (balance, date) = processCSV(datafile, '\\t', bankname)\n",
    "                    bankdata[accountType][bankname][\"balance\"].extend(balance)\n",
    "                    bankdata[accountType][bankname][\"date\"].extend(date)\n",
    "    \n",
    "    return sortDataFiles(bankdata)"
   ]
  },
  {
   "cell_type": "markdown",
   "metadata": {
    "colab_type": "text",
    "id": "UhORmS5Wtt6D"
   },
   "source": [
    "### Traces"
   ]
  },
  {
   "cell_type": "code",
   "execution_count": null,
   "metadata": {},
   "outputs": [],
   "source": [
    "def builtTraces(bankdata):\n",
    "    data = []\n",
    "    \n",
    "    for accountType in ACCOUNTTYPES: # Account type\n",
    "        for bank in bankdata[accountType]: # Bank name\n",
    "            dates = np.array(bankdata[accountType][bank]['date'])\n",
    "            balances = np.array(bankdata[accountType][bank]['balance'])\n",
    "            \n",
    "            bankName = SUPPORTED_BANKS[bank]\n",
    "\n",
    "            trace_main = go.Scatter(\n",
    "                x = dates,\n",
    "                y = balances,\n",
    "                name = bankName + ': Saldo ' + str(format(balances[-1], ',.2f').replace(\",\", \"X\").replace(\".\", \",\").replace(\"X\", \".\")) + '€',\n",
    "                #line = dict(\n",
    "                #    color = 'green'\n",
    "                #),\n",
    "                mode = 'lines'\n",
    "            )\n",
    "            data.append(trace_main)\n",
    "\n",
    "            trace_max = go.Scatter(\n",
    "                x = dates,\n",
    "                y = [balances.max() for f in dates],\n",
    "                name = bankName + ': Saldo máximo',\n",
    "                #visible = 'legendonly',\n",
    "                #hoverinfo = 'name',\n",
    "                line = dict(\n",
    "                    #color = 'cyan',\n",
    "                    width = 4,\n",
    "                    dash = 'dot'\n",
    "                )\n",
    "            )\n",
    "            data.append(trace_max)\n",
    "\n",
    "            trace_mean = go.Scatter(\n",
    "                x = dates,\n",
    "                y = [balances.mean() for f in dates],\n",
    "                name = bankName + ': Saldo medio',\n",
    "                #hoverinfo = 'none',\n",
    "                line = dict(\n",
    "                    #color = 'magenta',\n",
    "                    width = 4,\n",
    "                    dash = 'dashdot'\n",
    "                )\n",
    "            )\n",
    "            data.append(trace_mean)\n",
    "\n",
    "            trace_min = go.Scatter(\n",
    "                x = dates,\n",
    "                y = [balances.min() for f in dates],\n",
    "                name = bankName + ': Saldo mínimo',\n",
    "                line = dict(\n",
    "                    #color = 'red',\n",
    "                    width = 4,\n",
    "                    dash = 'dot'\n",
    "                )\n",
    "            )\n",
    "            data.append(trace_min)\n",
    "        \n",
    "    return (data, 0, 0)"
   ]
  },
  {
   "cell_type": "markdown",
   "metadata": {
    "colab_type": "text",
    "id": "_2CfE1HJtt6G"
   },
   "source": [
    "### Plot"
   ]
  },
  {
   "cell_type": "code",
   "execution_count": null,
   "metadata": {
    "colab": {
     "base_uri": "https://localhost:8080/",
     "height": 542
    },
    "colab_type": "code",
    "id": "KtGF8TT7tt6G",
    "outputId": "43d678ed-0d55-4fd6-e700-f625de88b977",
    "scrolled": false
   },
   "outputs": [],
   "source": [
    "bankdata = loadDataFiles() # Load files\n",
    "(data, minDate, maxDate) = builtTraces(bankdata) # Built traces from data\n",
    "\n",
    "# Plot charts\n",
    "layout = go.Layout(title = 'Saldo ' + str(minDate) + ' / ' + str(maxDate),\n",
    "              xaxis = dict(title = 'Fecha'),\n",
    "              yaxis = dict(title = 'Saldo (€)'),\n",
    "              showlegend = True\n",
    ")\n",
    "\n",
    "fig = dict(data=data, layout=layout)\n",
    "py.offline.iplot(fig, filename='styled-line')"
   ]
  }
 ],
 "metadata": {
  "colab": {
   "name": "Saldo.ipynb",
   "provenance": [],
   "toc_visible": true,
   "version": "0.3.2"
  },
  "kernelspec": {
   "display_name": "Python 3",
   "language": "python",
   "name": "python3"
  },
  "language_info": {
   "codemirror_mode": {
    "name": "ipython",
    "version": 3
   },
   "file_extension": ".py",
   "mimetype": "text/x-python",
   "name": "python",
   "nbconvert_exporter": "python",
   "pygments_lexer": "ipython3",
   "version": "3.7.1"
  }
 },
 "nbformat": 4,
 "nbformat_minor": 1
}
